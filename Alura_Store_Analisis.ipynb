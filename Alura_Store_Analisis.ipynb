{
 "cells": [
  {
   "cell_type": "markdown",
   "id": "8b9dfe09",
   "metadata": {},
   "source": [
    "# Desafío Alura Store — Análisis y Recomendación"
   ]
  },
  {
   "cell_type": "markdown",
   "id": "d295c9b3",
   "metadata": {},
   "source": [
    "\n",
    "## Índice\n",
    "- [0) Preparación](#0)\n",
    "- [1) Importación de datos](#1)\n",
    "- [2) Configuración de datos](#2)\n",
    "- [3) Limpieza](#3)\n",
    "- [4) Facturación por tienda](#4)\n",
    "- [5) Categorías más vendidas](#5)\n",
    "- [6) Calificación promedio por tienda](#6)\n",
    "- [7) Productos más y menos vendidos](#7)\n",
    "- [8) Costo de envío por tienda](#8)\n",
    "- [9) Reporte y recomendación](#9)\n"
   ]
  },
  {
   "cell_type": "markdown",
   "id": "4d213fbf",
   "metadata": {},
   "source": [
    "<a id='0'></a>\n",
    "\n",
    "## 0) Preparación"
   ]
  },
  {
   "cell_type": "code",
   "execution_count": null,
   "id": "3115ec91",
   "metadata": {},
   "outputs": [],
   "source": [
    "\n",
    "import os, glob, math\n",
    "import pandas as pd, numpy as np\n",
    "import matplotlib.pyplot as plt\n",
    "pd.set_option('display.max_colwidth', 200)\n",
    "pd.set_option('display.float_format', lambda x: f'{x:,.2f}')\n"
   ]
  },
  {
   "cell_type": "markdown",
   "id": "f5c3185e",
   "metadata": {},
   "source": [
    "<a id='1'></a>\n",
    "\n",
    "## 1) Importación de datos"
   ]
  },
  {
   "cell_type": "code",
   "execution_count": null,
   "id": "4f43c866",
   "metadata": {},
   "outputs": [],
   "source": [
    "\n",
    "# from codigo_base import cargar_datos\n",
    "# df = cargar_datos()\n"
   ]
  },
  {
   "cell_type": "markdown",
   "id": "fa7d3a62",
   "metadata": {},
   "source": [
    "<a id='2'></a>\n",
    "\n",
    "## 2) Configuración de datos"
   ]
  },
  {
   "cell_type": "code",
   "execution_count": null,
   "id": "fb89ebb3",
   "metadata": {},
   "outputs": [],
   "source": [
    "\n",
    "DATA_DIR = 'data'\n",
    "FILE_PATTERN = '*.csv'\n",
    "SINGLE_CSV = None\n",
    "\n",
    "COLUMN_ALIASES = {\n",
    "    'store': ['store','tienda','seller_store','loja'],\n",
    "    'order_id': ['order_id','id_pedido','pedido_id'],\n",
    "    'product_id': ['product_id','id_producto','produto_id'],\n",
    "    'product_name': ['product_name','nombre_producto','produto_nome','product'],\n",
    "    'category': ['category','categoria','product_category','categoria_producto'],\n",
    "    'quantity': ['quantity','cantidad','qty','qtd'],\n",
    "    'price': ['price','precio','preco','unit_price'],\n",
    "    'review_score': ['review_score','calificacion','nota','rating','review','score'],\n",
    "    'shipping_cost': ['shipping_cost','costo_envio','frete','shipping_price','envio'],\n",
    "    'customer_id': ['customer_id','id_cliente','cliente_id']\n",
    "}\n",
    "\n",
    "def _standardize_columns(df, aliases):\n",
    "    cols = {c.lower().strip(): c for c in df.columns}\n",
    "    result = {}\n",
    "    for canonical, options in aliases.items():\n",
    "        for opt in options:\n",
    "            if opt in cols:\n",
    "                result[cols[opt]] = canonical\n",
    "                break\n",
    "    return df.rename(columns=result)\n",
    "\n",
    "def _read_many_csvs(data_dir, pattern):\n",
    "    paths = sorted(glob.glob(os.path.join(data_dir, pattern)))\n",
    "    if not paths: raise FileNotFoundError('No se encontraron CSV.')\n",
    "    frames = []\n",
    "    for p in paths:\n",
    "        tmp = pd.read_csv(p, low_memory=False)\n",
    "        tmp = _standardize_columns(tmp, COLUMN_ALIASES)\n",
    "        if 'store' not in tmp.columns:\n",
    "            tmp['store'] = os.path.splitext(os.path.basename(p))[0]\n",
    "        frames.append(tmp)\n",
    "    return pd.concat(frames, ignore_index=True)\n",
    "\n",
    "def _read_single_csv(path):\n",
    "    df = pd.read_csv(path, low_memory=False)\n",
    "    df = _standardize_columns(df, COLUMN_ALIASES)\n",
    "    if 'store' not in df.columns:\n",
    "        raise ValueError('Falta columna store.')\n",
    "    return df\n",
    "\n",
    "if 'df' not in globals():\n",
    "    df = _read_single_csv(SINGLE_CSV) if SINGLE_CSV else _read_many_csvs(DATA_DIR, FILE_PATTERN)\n",
    "\n",
    "required = ['store','order_id','product_id','category','quantity','price','review_score','shipping_cost']\n",
    "missing = [c for c in required if c not in df.columns]\n",
    "if missing: raise ValueError(f'Faltan columnas: {missing}')\n",
    "\n",
    "if 'product_name' not in df.columns:\n",
    "    df['product_name'] = df['product_id'].astype(str)\n",
    "\n",
    "for c in ['quantity','price','review_score','shipping_cost']:\n",
    "    df[c] = pd.to_numeric(df[c], errors='coerce')\n",
    "\n",
    "df['revenue'] = df['quantity'] * df['price']\n",
    "df['units'] = df['quantity']\n",
    "df.head(3)\n"
   ]
  },
  {
   "cell_type": "markdown",
   "id": "ab11a71f",
   "metadata": {},
   "source": [
    "<a id='3'></a>\n",
    "\n",
    "## 3) Limpieza"
   ]
  },
  {
   "cell_type": "code",
   "execution_count": null,
   "id": "889c94bd",
   "metadata": {},
   "outputs": [],
   "source": [
    "\n",
    "df_clean = df.dropna(subset=['store','order_id','product_id','category','quantity','price']).copy()\n",
    "for c in ['quantity','price','shipping_cost','review_score']:\n",
    "    if c in df_clean.columns:\n",
    "        df_clean.loc[df_clean[c] < 0, c] = np.nan\n",
    "stores = sorted(df_clean['store'].dropna().unique().tolist())\n",
    "len(stores), stores[:10]\n"
   ]
  },
  {
   "cell_type": "markdown",
   "id": "5798ae5e",
   "metadata": {},
   "source": [
    "<a id='4'></a>\n",
    "\n",
    "## 4) Facturación por tienda"
   ]
  },
  {
   "cell_type": "code",
   "execution_count": null,
   "id": "02408d2e",
   "metadata": {},
   "outputs": [],
   "source": [
    "\n",
    "facturacion = (df_clean.groupby('store', as_index=False)\n",
    "               .agg(revenue_total=('revenue','sum'),\n",
    "                    unidades_total=('units','sum'))\n",
    "               .sort_values('revenue_total', ascending=False))\n",
    "display(facturacion)\n",
    "\n",
    "plt.figure()\n",
    "plt.bar(facturacion['store'], facturacion['revenue_total'])\n",
    "plt.title('Facturación por tienda')\n",
    "plt.xlabel('Tienda'); plt.ylabel('Facturación')\n",
    "plt.xticks(rotation=45, ha='right'); plt.tight_layout(); plt.show()\n",
    "\n",
    "plt.figure()\n",
    "plt.pie(facturacion['revenue_total'], labels=facturacion['store'], autopct='%1.1f%%')\n",
    "plt.title('Participación de facturación'); plt.tight_layout(); plt.show()\n"
   ]
  },
  {
   "cell_type": "markdown",
   "id": "7a7275b7",
   "metadata": {},
   "source": [
    "<a id='5'></a>\n",
    "\n",
    "## 5) Categorías más vendidas"
   ]
  },
  {
   "cell_type": "code",
   "execution_count": null,
   "id": "254018e4",
   "metadata": {},
   "outputs": [],
   "source": [
    "\n",
    "top_n = 5\n",
    "cats = (df_clean.groupby(['store','category'], as_index=False)\n",
    "        .agg(unidades=('units','sum'))\n",
    "        .sort_values(['store','unidades'], ascending=[True,False]))\n",
    "display(cats.head(10))\n",
    "for s in stores:\n",
    "    sub = cats[cats['store']==s].head(top_n)\n",
    "    plt.figure()\n",
    "    plt.bar(sub['category'].astype(str), sub['unidades'])\n",
    "    plt.title(f'Top {top_n} categorías - {s}')\n",
    "    plt.xlabel('Categoría'); plt.ylabel('Unidades')\n",
    "    plt.xticks(rotation=45, ha='right'); plt.tight_layout(); plt.show()\n"
   ]
  },
  {
   "cell_type": "markdown",
   "id": "a5671cfd",
   "metadata": {},
   "source": [
    "<a id='6'></a>\n",
    "\n",
    "## 6) Calificación promedio por tienda"
   ]
  },
  {
   "cell_type": "code",
   "execution_count": null,
   "id": "acf7a4db",
   "metadata": {},
   "outputs": [],
   "source": [
    "\n",
    "if 'review_score' in df_clean.columns:\n",
    "    ratings = (df_clean.dropna(subset=['review_score']).groupby('store', as_index=False)\n",
    "               .agg(calificacion_promedio=('review_score','mean'),\n",
    "                    cantidad_resenas=('review_score','count'))\n",
    "               .sort_values('calificacion_promedio', ascending=False))\n",
    "    display(ratings)\n",
    "    plt.figure()\n",
    "    plt.bar(ratings['store'], ratings['calificacion_promedio'])\n",
    "    plt.title('Calificación promedio por tienda')\n",
    "    plt.xlabel('Tienda'); plt.ylabel('Calificación')\n",
    "    plt.xticks(rotation=45, ha='right'); plt.tight_layout(); plt.show()\n",
    "    plt.figure()\n",
    "    df_clean['review_score'].dropna().plot(kind='hist', bins=10)\n",
    "    plt.title('Distribución de reseñas'); plt.xlabel('Puntuación'); plt.ylabel('Frecuencia')\n",
    "    plt.tight_layout(); plt.show()\n",
    "else:\n",
    "    print('review_score no disponible')\n"
   ]
  },
  {
   "cell_type": "markdown",
   "id": "a4444e2c",
   "metadata": {},
   "source": [
    "<a id='7'></a>\n",
    "\n",
    "## 7) Productos más y menos vendidos"
   ]
  },
  {
   "cell_type": "code",
   "execution_count": null,
   "id": "b3c80cdd",
   "metadata": {},
   "outputs": [],
   "source": [
    "\n",
    "prod = (df_clean.groupby(['store','product_id','product_name'], as_index=False)\n",
    "        .agg(unidades=('units','sum'), revenue=('revenue','sum')))\n",
    "\n",
    "def extremos_por_tienda(df_in, k=5):\n",
    "    res = []\n",
    "    for s in stores:\n",
    "        sub = df_in[df_in['store']==s].sort_values('unidades', ascending=False)\n",
    "        top = sub.head(k).assign(tipo='TOP')\n",
    "        bottom = sub.sort_values('unidades', ascending=True).head(k).assign(tipo='BOTTOM')\n",
    "        res.append(pd.concat([top,bottom], ignore_index=True))\n",
    "    return pd.concat(res, ignore_index=True)\n",
    "\n",
    "extremos = extremos_por_tienda(prod, k=5)\n",
    "display(extremos)\n",
    "for s in stores:\n",
    "    sub = extremos[(extremos['store']==s) & (extremos['tipo']=='TOP')]\n",
    "    plt.figure()\n",
    "    plt.bar(sub['product_name'].astype(str), sub['unidades'])\n",
    "    plt.title(f'TOP 5 productos - {s}')\n",
    "    plt.xlabel('Producto'); plt.ylabel('Unidades')\n",
    "    plt.xticks(rotation=45, ha='right'); plt.tight_layout(); plt.show()\n"
   ]
  },
  {
   "cell_type": "markdown",
   "id": "db047d7d",
   "metadata": {},
   "source": [
    "<a id='8'></a>\n",
    "\n",
    "## 8) Costo de envío por tienda"
   ]
  },
  {
   "cell_type": "code",
   "execution_count": null,
   "id": "604d2ea9",
   "metadata": {},
   "outputs": [],
   "source": [
    "\n",
    "envio = (df_clean.dropna(subset=['shipping_cost']).groupby('store', as_index=False)\n",
    "         .agg(costo_envio_promedio=('shipping_cost','mean'),\n",
    "              costo_envio_mediano=('shipping_cost','median'),\n",
    "              costo_envio_total=('shipping_cost','sum'))\n",
    "         .sort_values('costo_envio_promedio', ascending=True))\n",
    "display(envio)\n",
    "\n",
    "plt.figure()\n",
    "plt.bar(envio['store'], envio['costo_envio_promedio'])\n",
    "plt.title('Costo promedio de envío')\n",
    "plt.xlabel('Tienda'); plt.ylabel('Costo')\n",
    "plt.xticks(rotation=45, ha='right'); plt.tight_layout(); plt.show()\n",
    "\n",
    "sample = df_clean.dropna(subset=['shipping_cost','revenue']).sample(min(len(df_clean), 5000), random_state=7)\n",
    "plt.figure()\n",
    "plt.scatter(sample['revenue'], sample['shipping_cost'], alpha=0.5)\n",
    "plt.title('Costo de envío vs. valor del pedido')\n",
    "plt.xlabel('Revenue'); plt.ylabel('Costo de envío')\n",
    "plt.tight_layout(); plt.show()\n"
   ]
  },
  {
   "cell_type": "markdown",
   "id": "59e499a5",
   "metadata": {},
   "source": [
    "<a id='9'></a>\n",
    "\n",
    "## 9) Reporte y recomendación"
   ]
  },
  {
   "cell_type": "code",
   "execution_count": null,
   "id": "38b28470",
   "metadata": {},
   "outputs": [],
   "source": [
    "\n",
    "base = facturacion[['store','revenue_total','unidades_total']].copy()\n",
    "if 'ratings' in locals():\n",
    "    base = base.merge(ratings[['store','calificacion_promedio']], on='store', how='left')\n",
    "else:\n",
    "    base['calificacion_promedio'] = np.nan\n",
    "base = base.merge(envio[['store','costo_envio_promedio']], on='store', how='left')\n",
    "\n",
    "def minmax(s):\n",
    "    s = s.astype(float)\n",
    "    if s.nunique(dropna=True) <= 1: return pd.Series([0.5 if not math.isnan(x) else np.nan for x in s], index=s.index)\n",
    "    return (s - s.min(skipna=True)) / (s.max(skipna=True) - s.min(skipna=True))\n",
    "\n",
    "norm_rev = minmax(base['revenue_total'])\n",
    "norm_units = minmax(base['unidades_total'])\n",
    "norm_rate = minmax(base['calificacion_promedio'])\n",
    "norm_ship = minmax(-base['costo_envio_promedio'])\n",
    "\n",
    "weights = {'revenue':0.4,'units':0.2,'rating':0.25,'shipping':0.15}\n",
    "base['score'] = (weights['revenue']*norm_rev.fillna(norm_rev.mean()) +\n",
    "                 weights['units']*norm_units.fillna(norm_units.mean()) +\n",
    "                 weights['rating']*norm_rate.fillna(norm_rate.mean()) +\n",
    "                 weights['shipping']*norm_ship.fillna(norm_ship.mean()))\n",
    "resultado = base.sort_values('score', ascending=False).reset_index(drop=True)\n",
    "resultado['ranking'] = np.arange(1, len(resultado)+1)\n",
    "display(resultado[['ranking','store','score','revenue_total','unidades_total','calificacion_promedio','costo_envio_promedio']])\n",
    "\n",
    "peor_tienda = resultado.sort_values('score').iloc[0]['store']\n",
    "\n",
    "reporte = []\n",
    "reporte.append('# Informe ejecutivo - Alura Store')\n",
    "reporte.append(f'_Generado: {datetime.now().strftime(\"%Y-%m-%d %H:%M\")}_\\n')\n",
    "reporte.append('## Resumen')\n",
    "reporte.append('1) Facturación por tienda')\n",
    "reporte.append(facturacion.to_markdown(index=False))\n",
    "reporte.append('\\n2) Calificación promedio por tienda')\n",
    "if 'ratings' in locals(): reporte.append(ratings.to_markdown(index=False))\n",
    "else: reporte.append('_Sin reseñas válidas_')\n",
    "reporte.append('\\n3) Costo de envío por tienda')\n",
    "reporte.append(envio.to_markdown(index=False))\n",
    "reporte.append('\\n## Recomendación')\n",
    "reporte.append(f'Tienda sugerida para vender: **{peor_tienda}**.')\n",
    "with open('Alura_Store_Reporte.md','w',encoding='utf-8') as f: f.write(\"\\n\".join(reporte))\n",
    "'OK'\n"
   ]
  }
 ],
 "metadata": {},
 "nbformat": 4,
 "nbformat_minor": 5
}
